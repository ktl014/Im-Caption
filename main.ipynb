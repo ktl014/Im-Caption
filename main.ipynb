{
 "cells": [
  {
   "cell_type": "code",
   "execution_count": 1,
   "metadata": {},
   "outputs": [],
   "source": [
    "# Watch for any changes in vocabulary.py, data_loader.py, utils.py or model.py, and re-load it automatically.\n",
    "%load_ext autoreload\n",
    "%autoreload 2"
   ]
  },
  {
   "cell_type": "code",
   "execution_count": 2,
   "metadata": {},
   "outputs": [
    {
     "name": "stdout",
     "output_type": "stream",
     "text": [
      "MODE: TRAIN\n"
     ]
    }
   ],
   "source": [
    "# Standard dist imports\n",
    "import math\n",
    "import os\n",
    "import time\n",
    "\n",
    "# Third party imports\n",
    "import numpy as np\n",
    "import torch\n",
    "import torch.nn as nn\n",
    "\n",
    "# Project level imports\n",
    "from utils import train, validate, save_epoch, early_stopping, set_cuda, \\\n",
    "    clean_sentence, get_prediction\n",
    "from data_loader import get_loader, transform\n",
    "from model import EncoderCNN, DecoderRNN, DecoderWithAttention\n",
    "\n",
    "# Module level constants\n",
    "MODE = 'train' # IF train network, set to 'train', ELSE test network, set to 'test'\n",
    "CNN_ARCH = 'resnet50' # CNN Encoder Architecture\n",
    "MODEL_DIR = './models/attention' # Model directory to save weights to\n",
    "RESUME = None # IF resume training OR conducting evaluation, set this to the checkpoint path ELSE none\n",
    "\n",
    "# Check if mode is specified correctly\n",
    "assert MODE in ['train', 'eval', 'deploy']\n",
    "print('MODE: {}'.format(MODE.upper()))\n",
    "# Initialize model directory to save checkpoints\n",
    "if not os.path.isdir(MODEL_DIR):\n",
    "    os.makedirs(MODEL_DIR)"
   ]
  },
  {
   "cell_type": "code",
   "execution_count": 3,
   "metadata": {},
   "outputs": [
    {
     "name": "stdout",
     "output_type": "stream",
     "text": [
      "Vocabulary successfully loaded from vocab.pkl file!\n",
      "loading annotations into memory...\n",
      "Done (t=0.71s)\n",
      "creating index...\n"
     ]
    },
    {
     "name": "stderr",
     "output_type": "stream",
     "text": [
      "100%|██████████| 828/828 [00:00<00:00, 5422.04it/s]"
     ]
    },
    {
     "name": "stdout",
     "output_type": "stream",
     "text": [
      "index created!\n",
      "length of ids  828\n",
      "Obtaining caption lengths...\n",
      "Vocabulary successfully loaded from vocab.pkl file!\n",
      "loading annotations into memory...\n"
     ]
    },
    {
     "name": "stderr",
     "output_type": "stream",
     "text": [
      "\n"
     ]
    },
    {
     "name": "stdout",
     "output_type": "stream",
     "text": [
      "Done (t=0.43s)\n",
      "creating index...\n"
     ]
    },
    {
     "name": "stderr",
     "output_type": "stream",
     "text": [
      "100%|██████████| 405/405 [00:00<00:00, 5704.83it/s]"
     ]
    },
    {
     "name": "stdout",
     "output_type": "stream",
     "text": [
      "index created!\n",
      "length of ids  405\n",
      "Obtaining caption lengths...\n",
      "Number of training steps: 26\n",
      "Number of validation steps: 13\n"
     ]
    },
    {
     "name": "stderr",
     "output_type": "stream",
     "text": [
      "\n"
     ]
    }
   ],
   "source": [
    "# Set values for the training variables\n",
    "batch_size = 32  # batch size\n",
    "vocab_threshold = 5  # minimum word count threshold\n",
    "vocab_from_file = True  # if True, load existing vocab file\n",
    "embed_size = 256  # dimensionality of image and word embeddings\n",
    "hidden_size = 512  # number of features in hidden state of the RNN decoder\n",
    "num_epochs = 10  # number of training epochs\n",
    "lr = 0.001 # learning rate\n",
    "estop_threshold = 3 # early stop threshold\n",
    "attention = True\n",
    "alpha_c = 1.\n",
    "\n",
    "#============================== Load Data ================================#\n",
    "# Build data loader, applying the transforms\n",
    "if MODE == 'train':\n",
    "    train_loader = get_loader(transform=transform['train'],\n",
    "                              mode='train',\n",
    "                              batch_size=batch_size,\n",
    "                              vocab_threshold=vocab_threshold,\n",
    "                              vocab_from_file=vocab_from_file)\n",
    "    val_loader = get_loader(transform=transform['val'],\n",
    "                            mode='val',\n",
    "                            batch_size=batch_size,\n",
    "                            vocab_threshold=vocab_threshold,\n",
    "                            vocab_from_file=vocab_from_file)\n",
    "\n",
    "    # The size of the vocabulary\n",
    "    vocab_size = len(train_loader.dataset.vocab)\n",
    "\n",
    "    # Set the total number of training and validation steps per epoch\n",
    "    total_train_step = math.ceil(len(\n",
    "        train_loader.dataset.caption_lengths) / train_loader.batch_sampler.batch_size)\n",
    "    total_val_step = math.ceil(len(\n",
    "        val_loader.dataset.caption_lengths) / val_loader.batch_sampler.batch_size)\n",
    "    print(\"Number of training steps:\", total_train_step)\n",
    "    print(\"Number of validation steps:\", total_val_step)\n",
    "    \n",
    "else:\n",
    "    # Create the data loader\n",
    "    test_loader = get_loader(transform=transform['test'],\n",
    "                             mode='test')\n",
    "    total_test_step = math.ceil(len(test_loader.dataset.caption_lengths)\n",
    "                                / test_loader.batch_sampler.batch_size)\n",
    "    print(\"Number of test steps:\", total_test_step)\n",
    "\n",
    "    # Get the vocabulary and its size\n",
    "    vocab = test_loader.dataset.vocab\n",
    "    vocab_size = len(vocab)"
   ]
  },
  {
   "cell_type": "code",
   "execution_count": 4,
   "metadata": {},
   "outputs": [
    {
     "name": "stdout",
     "output_type": "stream",
     "text": [
      "CUDA is supported\n"
     ]
    }
   ],
   "source": [
    "#================================ Model ================================#\n",
    "# Initialize the encoder and decoder\n",
    "encoder = EncoderCNN(embed_size, architecture=CNN_ARCH, attention = attention)\n",
    "if attention == True:\n",
    "    decoder = DecoderWithAttention(vocab_size, embed_dim = embed_size, decoder_dim = hidden_size,\n",
    "                                   encoder_dim = 2048, attention_dim = 512, dropout = 0.5)\n",
    "else:\n",
    "    decoder = DecoderRNN(embed_size, hidden_size, vocab_size)\n",
    "\n",
    "\n",
    "# Move models to GPU if CUDA is available\n",
    "computing_device = set_cuda()\n",
    "encoder.to(computing_device)\n",
    "decoder.to(computing_device)\n",
    "\n",
    "# Define the loss function\n",
    "criterion = nn.CrossEntropyLoss().to(computing_device) \\\n",
    "    if torch.cuda.is_available() else nn.CrossEntropyLoss()\n",
    "\n",
    "# Specify the learnable parameters of the model\n",
    "params = list(decoder.parameters()) + list(\n",
    "    encoder.embed.parameters()) + list(encoder.bn.parameters())\n",
    "\n",
    "# Define the optimizer\n",
    "optimizer = torch.optim.Adam(params=params, lr=lr)\n",
    "\n",
    "# Keep track of train and validation losses and validation Bleu-4 scores by epoch\n",
    "train_losses = []\n",
    "val_losses = []\n",
    "val_bleus = []\n",
    "# Keep track of the current best validation Bleu score\n",
    "best_val_bleu = float(\"-INF\")\n",
    "start_epoch = 1\n",
    "\n",
    "# Resume from a checkpoint\n",
    "if RESUME or MODE != 'train':\n",
    "    fn = RESUME if RESUME else MODEL_DIR + '/best-model.pkl'\n",
    "    encoder, decoder, optimizer, \\\n",
    "    train_losses, val_losses, val_bleus, \\\n",
    "    best_val_bleu, start_epoch = load_epoch(encoder, decoder, optimizer, fn)"
   ]
  },
  {
   "cell_type": "code",
   "execution_count": 5,
   "metadata": {},
   "outputs": [
    {
     "name": "stdout",
     "output_type": "stream",
     "text": [
      "Epoch 1, Val step [13/13], 10s, Loss: 6.0239, Perplexity: 413.1914, Bleu-4: 0.0261\n",
      "Validation Bleu-4 improved from -inf to 0.0230, saving model to best-model.pkl\n",
      "Epoch [1/10] took 32s\n",
      "Epoch 2, Val step [13/13], 10s, Loss: 5.6743, Perplexity: 291.2728, Bleu-4: 0.0239\n",
      "Validation Bleu-4 improved from 0.0230 to 0.0252, saving model to best-model.pkl\n",
      "Epoch [2/10] took 33s\n",
      "Epoch 3, Val step [13/13], 10s, Loss: 5.2672, Perplexity: 193.8794, Bleu-4: 0.0464\n",
      "Validation Bleu-4 improved from 0.0252 to 0.0395, saving model to best-model.pkl\n",
      "Epoch [3/10] took 33s\n",
      "Epoch 4, Val step [13/13], 10s, Loss: 5.6928, Perplexity: 296.7209, Bleu-4: 0.0362\n",
      "Validation Bleu-4 improved from 0.0395 to 0.0401, saving model to best-model.pkl\n",
      "Epoch [4/10] took 33s\n",
      "Epoch 5, Val step [13/13], 10s, Loss: 5.4250, Perplexity: 227.0028, Bleu-4: 0.0424\n",
      "Validation Bleu-4 did not improve, saving model to model-5.pkl\n",
      "Epoch [5/10] took 31s\n",
      "Epoch 6, Val step [13/13], 10s, Loss: 5.4380, Perplexity: 229.9850, Bleu-4: 0.0337\n",
      "Validation Bleu-4 improved from 0.0401 to 0.0427, saving model to best-model.pkl\n",
      "Epoch [6/10] took 34s\n",
      "Epoch 7, Val step [13/13], 10s, Loss: 5.0798, Perplexity: 160.7399, Bleu-4: 0.0462\n",
      "Validation Bleu-4 improved from 0.0427 to 0.0433, saving model to best-model.pkl\n",
      "Epoch [7/10] took 33s\n",
      "Epoch 8, Val step [13/13], 10s, Loss: 4.9125, Perplexity: 135.9776, Bleu-4: 0.0498\n",
      "Validation Bleu-4 did not improve, saving model to model-8.pkl\n",
      "Epoch [8/10] took 32s\n",
      "Epoch 9, Val step [13/13], 10s, Loss: 5.5434, Perplexity: 255.5473, Bleu-4: 0.0383\n",
      "Validation Bleu-4 did not improve, saving model to model-9.pkl\n",
      "Epoch [9/10] took 32s\n",
      "Epoch 10, Val step [13/13], 10s, Loss: 5.3936, Perplexity: 220.0004, Bleu-4: 0.0489\n",
      "Validation Bleu-4 improved from 0.0433 to 0.0482, saving model to best-model.pkl\n",
      "Epoch [10/10] took 33s\n",
      "Epoch 11, Val step [13/13], 10s, Loss: 5.9172, Perplexity: 371.3561, Bleu-4: 0.0359\n",
      "Validation Bleu-4 did not improve, saving model to model-11.pkl\n",
      "Epoch [11/10] took 31s\n"
     ]
    }
   ],
   "source": [
    "#========================== Train Network ================================#\n",
    "if MODE == 'train':\n",
    "\n",
    "    start_time = time.time()\n",
    "    for epoch in range(start_epoch, start_epoch + num_epochs + 1):\n",
    "        train_loss = train(train_loader, encoder, decoder, criterion,\n",
    "                           optimizer,\n",
    "                           vocab_size, epoch, total_train_step)\n",
    "        train_losses.append(train_loss)\n",
    "        val_loss, val_bleu = validate(val_loader, encoder, decoder, criterion,\n",
    "                                      train_loader.dataset.vocab, epoch,\n",
    "                                      total_val_step)\n",
    "        val_losses.append(val_loss)\n",
    "        val_bleus.append(val_bleu)\n",
    "        if val_bleu > best_val_bleu:\n",
    "            print()\n",
    "            print(\"Validation Bleu-4 improved from {:0.4f} to {:0.4f}, saving model to best-model.pkl\".\n",
    "                format(best_val_bleu, val_bleu))\n",
    "            best_val_bleu = val_bleu\n",
    "            filename = os.path.join(MODEL_DIR, \"best-model.pkl\")\n",
    "            save_epoch(filename, encoder, decoder, optimizer, train_losses,\n",
    "                       val_losses,\n",
    "                       val_bleu, val_bleus, epoch)\n",
    "        else:\n",
    "            print()\n",
    "            print(\"Validation Bleu-4 did not improve, saving model to model-{}.pkl\".format(\n",
    "                    epoch))\n",
    "        # Save the entire model anyway, regardless of being the best model so far or not\n",
    "        filename = os.path.join(MODEL_DIR, \"model-{}.pkl\".format(epoch))\n",
    "        save_epoch(filename, encoder, decoder, optimizer, train_losses,\n",
    "                   val_losses,\n",
    "                   val_bleu, val_bleus, epoch)\n",
    "        print(\"Epoch [%d/%d] took %ds\" % (\n",
    "        epoch, num_epochs, time.time() - start_time))\n",
    "        if epoch > 5:\n",
    "            # Stop if the validation Bleu doesn't improve for 3 epochs\n",
    "            if early_stopping(val_bleus, estop_threshold):\n",
    "                break\n",
    "        start_time = time.time()"
   ]
  },
  {
   "cell_type": "code",
   "execution_count": 6,
   "metadata": {},
   "outputs": [
    {
     "ename": "NameError",
     "evalue": "name 'test_loader' is not defined",
     "output_type": "error",
     "traceback": [
      "\u001b[0;31m\u001b[0m",
      "\u001b[0;31mNameError\u001b[0mTraceback (most recent call last)",
      "\u001b[0;32m<ipython-input-6-0aae2a19fecf>\u001b[0m in \u001b[0;36m<module>\u001b[0;34m()\u001b[0m\n\u001b[1;32m      3\u001b[0m \u001b[0;31m# STILL WORK IN PROGRESS\u001b[0m\u001b[0;34m\u001b[0m\u001b[0;34m\u001b[0m\u001b[0;34m\u001b[0m\u001b[0m\n\u001b[1;32m      4\u001b[0m \u001b[0;32mif\u001b[0m \u001b[0mMODE\u001b[0m \u001b[0;34m==\u001b[0m \u001b[0;34m'eval'\u001b[0m\u001b[0;34m:\u001b[0m\u001b[0;34m\u001b[0m\u001b[0;34m\u001b[0m\u001b[0m\n\u001b[0;32m----> 5\u001b[0;31m     test_loss, test_bleu = validate(test_loader, encoder, decoder,\n\u001b[0m\u001b[1;32m      6\u001b[0m                                     \u001b[0mcriterion\u001b[0m\u001b[0;34m,\u001b[0m \u001b[0moptimizer\u001b[0m\u001b[0;34m,\u001b[0m\u001b[0;34m\u001b[0m\u001b[0;34m\u001b[0m\u001b[0m\n\u001b[1;32m      7\u001b[0m                                     test_loader.dataset.vocab, total_test_step)\n",
      "\u001b[0;31mNameError\u001b[0m: name 'test_loader' is not defined"
     ]
    }
   ],
   "source": [
    "MODE = 'eval'\n",
    "# ======================== Evaluate Network ==============================#\n",
    "# STILL WORK IN PROGRESS\n",
    "if MODE == 'eval':\n",
    "    test_loss, test_bleu = validate(test_loader, encoder, decoder,\n",
    "                                    criterion, optimizer,\n",
    "                                    test_loader.dataset.vocab, total_test_step)\n",
    "    print('FINAL RESULTS')\n",
    "    print('Test Loss: {} | BLEU: {}'.format(test_loss, test_bleu))"
   ]
  },
  {
   "cell_type": "code",
   "execution_count": null,
   "metadata": {},
   "outputs": [],
   "source": [
    "# ========================== Deploy Network ==============================#\n",
    "MODE = 'deploy'\n",
    "if MODE == 'deploy':\n",
    "        # Obtain sample image before and after pre-processing\n",
    "        orig_image, image = next(iter(test_loader))\n",
    "\n",
    "        # Obtain the embedded image features.\n",
    "        features = encoder(image.cuda()).unsqueeze(1)\n",
    "\n",
    "        # Pass the embedded image features through the model to get a predicted caption.\n",
    "        output = decoder.sample(features)\n",
    "        print('example output:', output)\n",
    "\n",
    "        sentence = clean_sentence(output, vocab)\n",
    "        print('example sentence:', sentence)\n",
    "\n",
    "        #get_prediction(test_loader, encoder, decoder, vocab)"
   ]
  },
  {
   "cell_type": "code",
   "execution_count": null,
   "metadata": {},
   "outputs": [],
   "source": []
  }
 ],
 "metadata": {
  "kernelspec": {
   "display_name": "Python 3",
   "language": "python",
   "name": "python3"
  },
  "language_info": {
   "codemirror_mode": {
    "name": "ipython",
    "version": 3
   },
   "file_extension": ".py",
   "mimetype": "text/x-python",
   "name": "python",
   "nbconvert_exporter": "python",
   "pygments_lexer": "ipython3",
   "version": "3.6.8"
  }
 },
 "nbformat": 4,
 "nbformat_minor": 2
}
